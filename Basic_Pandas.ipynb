{
 "cells": [
  {
   "cell_type": "code",
   "execution_count": 4,
   "id": "13c1d4af",
   "metadata": {},
   "outputs": [],
   "source": [
    "#Importing Necessary Libraries\n",
    "import pandas as pd\n",
    "import numpy as np"
   ]
  },
  {
   "cell_type": "code",
   "execution_count": null,
   "id": "92580d03",
   "metadata": {},
   "outputs": [
    {
     "name": "stdout",
     "output_type": "stream",
     "text": [
      "   Age   BMI  Menstrual_Irregularity  Testosterone_Level(ng/dL)  \\\n",
      "0   29  21.2                       0                       46.1   \n",
      "1   20  20.5                       0                       59.4   \n",
      "2   23  23.1                       0                       69.3   \n",
      "3   19  32.7                       1                       77.7   \n",
      "4   19  25.9                       0                       49.4   \n",
      "\n",
      "   Antral_Follicle_Count  PCOS_Diagnosis  \n",
      "0                      9               0  \n",
      "1                      6               0  \n",
      "2                     10               0  \n",
      "3                     37               1  \n",
      "4                      5               0  \n"
     ]
    }
   ],
   "source": [
    "# Replace the path with the location of your dataset file\n",
    "df = pd.read_csv(r\"C:\\Users\\monik\\Downloads\\pcos_rotterdam_balanceado.csv\")\n",
    "\n",
    "# Preview the first few rows\n",
    "print(df.head())"
   ]
  },
  {
   "cell_type": "code",
   "execution_count": 6,
   "id": "1e7e0225",
   "metadata": {},
   "outputs": [
    {
     "name": "stdout",
     "output_type": "stream",
     "text": [
      "Age                          0\n",
      "BMI                          0\n",
      "Menstrual_Irregularity       0\n",
      "Testosterone_Level(ng/dL)    0\n",
      "Antral_Follicle_Count        0\n",
      "PCOS_Diagnosis               0\n",
      "dtype: int64\n"
     ]
    }
   ],
   "source": [
    "# Check for missing values in the dataset\n",
    "print(df.isnull().sum())"
   ]
  },
  {
   "cell_type": "code",
   "execution_count": null,
   "id": "6a572a88",
   "metadata": {},
   "outputs": [
    {
     "name": "stdout",
     "output_type": "stream",
     "text": [
      "<class 'pandas.core.frame.DataFrame'>\n",
      "RangeIndex: 3000 entries, 0 to 2999\n",
      "Data columns (total 6 columns):\n",
      " #   Column                     Non-Null Count  Dtype  \n",
      "---  ------                     --------------  -----  \n",
      " 0   Age                        3000 non-null   int64  \n",
      " 1   BMI                        3000 non-null   float64\n",
      " 2   Menstrual_Irregularity     3000 non-null   int64  \n",
      " 3   Testosterone_Level(ng/dL)  3000 non-null   float64\n",
      " 4   Antral_Follicle_Count      3000 non-null   int64  \n",
      " 5   PCOS_Diagnosis             3000 non-null   int64  \n",
      "dtypes: float64(2), int64(4)\n",
      "memory usage: 140.8 KB\n",
      "None\n"
     ]
    }
   ],
   "source": [
    "# Get a summary of the dataset: column types, non-null counts, etc.\n",
    "print(df.info())"
   ]
  },
  {
   "cell_type": "code",
   "execution_count": 8,
   "id": "9b084483",
   "metadata": {},
   "outputs": [
    {
     "name": "stdout",
     "output_type": "stream",
     "text": [
      "               Age          BMI  Menstrual_Irregularity  \\\n",
      "count  3000.000000  3000.000000             3000.000000   \n",
      "mean     30.052667    23.646000                0.289333   \n",
      "std       7.549982     4.510006                0.453529   \n",
      "min      18.000000     8.500000                0.000000   \n",
      "25%      24.000000    20.800000                0.000000   \n",
      "50%      30.000000    23.400000                0.000000   \n",
      "75%      36.000000    26.300000                1.000000   \n",
      "max      44.000000    44.700000                1.000000   \n",
      "\n",
      "       Testosterone_Level(ng/dL)  Antral_Follicle_Count  PCOS_Diagnosis  \n",
      "count                3000.000000            3000.000000     3000.000000  \n",
      "mean                   57.228267              10.732333        0.200000  \n",
      "std                    18.171066               8.471478        0.400067  \n",
      "min                    20.500000               3.000000        0.000000  \n",
      "25%                    45.200000               5.000000        0.000000  \n",
      "50%                    53.200000               8.000000        0.000000  \n",
      "75%                    64.100000              11.000000        0.000000  \n",
      "max                   136.400000              39.000000        1.000000  \n"
     ]
    }
   ],
   "source": [
    "# Get summary statistics for numerical columns\n",
    "print(df.describe())"
   ]
  },
  {
   "cell_type": "code",
   "execution_count": null,
   "id": "10572347",
   "metadata": {},
   "outputs": [],
   "source": [
    "# Filling missing numerical values with the column mean\n",
    "df['Age'] = df['Age'].fillna(df['Age'].mean())"
   ]
  },
  {
   "cell_type": "code",
   "execution_count": null,
   "id": "caf3920f",
   "metadata": {},
   "outputs": [],
   "source": [
    "# Dropping columns with more than 50% missing data\n",
    "df = df.dropna(thresh=len(df) * 0.5, axis=1)"
   ]
  },
  {
   "cell_type": "code",
   "execution_count": null,
   "id": "ac8dc465",
   "metadata": {},
   "outputs": [],
   "source": [
    "# One-hot encoding for categorical columns\n",
    "df = pd.get_dummies(df, drop_first=True)"
   ]
  },
  {
   "cell_type": "code",
   "execution_count": null,
   "id": "cf828178",
   "metadata": {},
   "outputs": [
    {
     "name": "stdout",
     "output_type": "stream",
     "text": [
      "PCOS_Diagnosis\n",
      "0    22.994542\n",
      "1    26.251833\n",
      "Name: BMI, dtype: float64\n"
     ]
    }
   ],
   "source": [
    "# Group by 'Category' and calculate the mean sales\n",
    "grouped_data = df.groupby('PCOS_Diagnosis')['BMI'].mean()\n",
    "\n",
    "# Display the result\n",
    "print(grouped_data)"
   ]
  },
  {
   "cell_type": "code",
   "execution_count": null,
   "id": "44b949e8",
   "metadata": {},
   "outputs": [],
   "source": [
    "#Save the Cleaned Data\n",
    "df.to_csv('cleaned_data.csv', index=False)"
   ]
  }
 ],
 "metadata": {
  "kernelspec": {
   "display_name": "Python 3",
   "language": "python",
   "name": "python3"
  },
  "language_info": {
   "codemirror_mode": {
    "name": "ipython",
    "version": 3
   },
   "file_extension": ".py",
   "mimetype": "text/x-python",
   "name": "python",
   "nbconvert_exporter": "python",
   "pygments_lexer": "ipython3",
   "version": "3.12.5"
  }
 },
 "nbformat": 4,
 "nbformat_minor": 5
}
